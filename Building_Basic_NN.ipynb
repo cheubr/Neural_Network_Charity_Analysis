{
 "cells": [
  {
   "cell_type": "code",
   "execution_count": 1,
   "id": "db7e89a8",
   "metadata": {},
   "outputs": [],
   "source": [
    "# Import our dependencies\n",
    "import pandas as pd\n",
    "import matplotlib as plt\n",
    "from sklearn.datasets import make_blobs\n",
    "import sklearn as skl\n",
    "import tensorflow as tf"
   ]
  },
  {
   "cell_type": "code",
   "execution_count": 2,
   "id": "5a08a796",
   "metadata": {},
   "outputs": [
    {
     "data": {
      "text/plain": [
       "<AxesSubplot:xlabel='Feature 1', ylabel='Feature 2'>"
      ]
     },
     "execution_count": 2,
     "metadata": {},
     "output_type": "execute_result"
    },
    {
     "data": {
      "image/png": "[encoded data removed]",
      "text/plain": [
       "<Figure size 432x288 with 2 Axes>"
      ]
     },
     "metadata": {
      "needs_background": "light"
     },
     "output_type": "display_data"
    }
   ],
   "source": [
    "# Generate dummy data set\n",
    "X, y = make_blobs(n_samples=1000, centers=2, n_features=2, random_state=78)\n",
    "\n",
    "# Creating a DataFrame with the dummy data\n",
    "df = pd.DataFrame(X, columns=[\"Feature 1\", \"Feature 2\"])\n",
    "df[\"Target\"] = y\n",
    "\n",
    "# Plotting the dummy data\n",
    "df.plot.scatter(x=\"Feature 1\", y=\"Feature 2\", c=\"Target\", colormap=\"winter\")"
   ]
  },
  {
   "cell_type": "code",
   "execution_count": 4,
   "id": "5e3de3f5",
   "metadata": {
    "scrolled": true
   },
   "outputs": [],
   "source": [
    "# Use sklearn to split dataset\n",
    "from sklearn.model_selection import train_test_split\n",
    "X_train, X_test, y_train, y_test = train_test_split(X, y, random_state=78)"
   ]
  },
  {
   "cell_type": "code",
   "execution_count": 5,
   "id": "5227233a",
   "metadata": {},
   "outputs": [],
   "source": [
    "# Create scaler instance\n",
    "X_scaler = skl.preprocessing.StandardScaler()\n",
    "\n",
    "# Fit the scaler\n",
    "X_scaler.fit(X_train)\n",
    "\n",
    "# Scale the data\n",
    "X_train_scaled = X_scaler.transform(X_train)\n",
    "X_test_scaled = X_scaler.transform(X_test)"
   ]
  },
  {
   "cell_type": "code",
   "execution_count": 6,
   "id": "e853ee16",
   "metadata": {},
   "outputs": [],
   "source": [
    "# Create the Keras Sequential model\n",
    "nn_model = tf.keras.models.Sequential()"
   ]
  },
  {
   "cell_type": "code",
   "execution_count": 7,
   "id": "0ddaf167",
   "metadata": {},
   "outputs": [],
   "source": [
    "# Add our first Dense Layer, including the input layer\n",
    "nn_model.add(tf.keras.layers.Dense(units=1, activation=\"relu\", input_dim=2))"
   ]
  },
  {
   "cell_type": "code",
   "execution_count": 8,
   "id": "d71627f5",
   "metadata": {},
   "outputs": [],
   "source": [
    "# Add the output layer that uses a probability activation function\n",
    "nn_model.add(tf.keras.layers.Dense(units=1, activation=\"sigmoid\"))"
   ]
  },
  {
   "cell_type": "code",
   "execution_count": 9,
   "id": "6ed53a05",
   "metadata": {},
   "outputs": [
    {
     "name": "stdout",
     "output_type": "stream",
     "text": [
      "Model: \"sequential\"\n",
      "_________________________________________________________________\n",
      " Layer (type)                Output Shape              Param #   \n",
      "=================================================================\n",
      " dense (Dense)               (None, 1)                 3         \n",
      "                                                                 \n",
      " dense_1 (Dense)             (None, 1)                 2         \n",
      "                                                                 \n",
      "=================================================================\n",
      "Total params: 5\n",
      "Trainable params: 5\n",
      "Non-trainable params: 0\n",
      "_________________________________________________________________\n"
     ]
    }
   ],
   "source": [
    "# Check the structure of the Sequential model\n",
    "nn_model.summary()"
   ]
  },
  {
   "cell_type": "code",
   "execution_count": 17,
   "id": "8f0cb881",
   "metadata": {},
   "outputs": [],
   "source": [
    "# Compile the Sequential model together and customize metrics\n",
    "nn_model.compile(loss=\"binary_crossentropy\", optimizer=\"adam\", metrics=[\"accuracy\"])"
   ]
  },
  {
   "cell_type": "code",
   "execution_count": 18,
   "id": "79362443",
   "metadata": {},
   "outputs": [
    {
     "name": "stdout",
     "output_type": "stream",
     "text": [
      "Epoch 1/100\n",
      "24/24 [==============================] - 0s 694us/step - loss: 0.5936 - accuracy: 0.7547\n",
      "Epoch 2/100\n",
      "24/24 [==============================] - 0s 677us/step - loss: 0.5745 - accuracy: 0.7880\n",
      "Epoch 3/100\n",
      "24/24 [==============================] - 0s 650us/step - loss: 0.5559 - accuracy: 0.8067\n",
      "Epoch 4/100\n",
      "24/24 [==============================] - 0s 694us/step - loss: 0.5368 - accuracy: 0.8320\n",
      "Epoch 5/100\n",
      "24/24 [==============================] - 0s 650us/step - loss: 0.5176 - accuracy: 0.8560\n",
      "Epoch 6/100\n",
      "24/24 [==============================] - 0s 650us/step - loss: 0.4982 - accuracy: 0.8747\n",
      "Epoch 7/100\n",
      "24/24 [==============================] - 0s 694us/step - loss: 0.4786 - accuracy: 0.8973\n",
      "Epoch 8/100\n",
      "24/24 [==============================] - 0s 694us/step - loss: 0.4590 - accuracy: 0.9200\n",
      "Epoch 9/100\n",
      "24/24 [==============================] - 0s 694us/step - loss: 0.4404 - accuracy: 0.9387\n",
      "Epoch 10/100\n",
      "24/24 [==============================] - 0s 672us/step - loss: 0.4228 - accuracy: 0.9440\n",
      "Epoch 11/100\n",
      "24/24 [==============================] - 0s 651us/step - loss: 0.4061 - accuracy: 0.9587\n",
      "Epoch 12/100\n",
      "24/24 [==============================] - 0s 694us/step - loss: 0.3901 - accuracy: 0.9653\n",
      "Epoch 13/100\n",
      "24/24 [==============================] - 0s 718us/step - loss: 0.3754 - accuracy: 0.9747\n",
      "Epoch 14/100\n",
      "24/24 [==============================] - 0s 694us/step - loss: 0.3615 - accuracy: 0.9773\n",
      "Epoch 15/100\n",
      "24/24 [==============================] - 0s 694us/step - loss: 0.3484 - accuracy: 0.9787\n",
      "Epoch 16/100\n",
      "24/24 [==============================] - 0s 650us/step - loss: 0.3361 - accuracy: 0.9840\n",
      "Epoch 17/100\n",
      "24/24 [==============================] - 0s 650us/step - loss: 0.3246 - accuracy: 0.9907\n",
      "Epoch 18/100\n",
      "24/24 [==============================] - 0s 650us/step - loss: 0.3140 - accuracy: 0.9933\n",
      "Epoch 19/100\n",
      "24/24 [==============================] - 0s 1ms/step - loss: 0.3040 - accuracy: 0.9933\n",
      "Epoch 20/100\n",
      "24/24 [==============================] - 0s 650us/step - loss: 0.2946 - accuracy: 0.9960\n",
      "Epoch 21/100\n",
      "24/24 [==============================] - 0s 650us/step - loss: 0.2858 - accuracy: 0.9960\n",
      "Epoch 22/100\n",
      "24/24 [==============================] - 0s 694us/step - loss: 0.2776 - accuracy: 0.9960\n",
      "Epoch 23/100\n",
      "24/24 [==============================] - 0s 694us/step - loss: 0.2698 - accuracy: 0.9973\n",
      "Epoch 24/100\n",
      "24/24 [==============================] - 0s 650us/step - loss: 0.2624 - accuracy: 0.9973\n",
      "Epoch 25/100\n",
      "24/24 [==============================] - 0s 650us/step - loss: 0.2554 - accuracy: 0.9973\n",
      "Epoch 26/100\n",
      "24/24 [==============================] - 0s 694us/step - loss: 0.2488 - accuracy: 0.9973\n",
      "Epoch 27/100\n",
      "24/24 [==============================] - 0s 650us/step - loss: 0.2426 - accuracy: 0.9973\n",
      "Epoch 28/100\n",
      "24/24 [==============================] - 0s 650us/step - loss: 0.2366 - accuracy: 0.9973\n",
      "Epoch 29/100\n",
      "24/24 [==============================] - 0s 737us/step - loss: 0.2309 - accuracy: 0.9973\n",
      "Epoch 30/100\n",
      "24/24 [==============================] - 0s 607us/step - loss: 0.2255 - accuracy: 0.9973\n",
      "Epoch 31/100\n",
      "24/24 [==============================] - 0s 652us/step - loss: 0.2203 - accuracy: 0.9987\n",
      "Epoch 32/100\n",
      "24/24 [==============================] - 0s 694us/step - loss: 0.2153 - accuracy: 0.9987\n",
      "Epoch 33/100\n",
      "24/24 [==============================] - 0s 650us/step - loss: 0.2105 - accuracy: 0.9987\n",
      "Epoch 34/100\n",
      "24/24 [==============================] - 0s 781us/step - loss: 0.2059 - accuracy: 0.9987\n",
      "Epoch 35/100\n",
      "24/24 [==============================] - 0s 631us/step - loss: 0.2014 - accuracy: 1.0000\n",
      "Epoch 36/100\n",
      "24/24 [==============================] - 0s 650us/step - loss: 0.1971 - accuracy: 1.0000\n",
      "Epoch 37/100\n",
      "24/24 [==============================] - 0s 694us/step - loss: 0.1929 - accuracy: 1.0000\n",
      "Epoch 38/100\n",
      "24/24 [==============================] - 0s 695us/step - loss: 0.1889 - accuracy: 1.0000\n",
      "Epoch 39/100\n",
      "24/24 [==============================] - 0s 737us/step - loss: 0.1850 - accuracy: 1.0000\n",
      "Epoch 40/100\n",
      "24/24 [==============================] - 0s 650us/step - loss: 0.1813 - accuracy: 1.0000\n",
      "Epoch 41/100\n",
      "24/24 [==============================] - 0s 607us/step - loss: 0.1776 - accuracy: 1.0000\n",
      "Epoch 42/100\n",
      "24/24 [==============================] - 0s 652us/step - loss: 0.1741 - accuracy: 1.0000\n",
      "Epoch 43/100\n",
      "24/24 [==============================] - 0s 650us/step - loss: 0.1707 - accuracy: 1.0000\n",
      "Epoch 44/100\n",
      "24/24 [==============================] - 0s 650us/step - loss: 0.1674 - accuracy: 1.0000\n",
      "Epoch 45/100\n",
      "24/24 [==============================] - 0s 694us/step - loss: 0.1642 - accuracy: 1.0000\n",
      "Epoch 46/100\n",
      "24/24 [==============================] - 0s 607us/step - loss: 0.1610 - accuracy: 1.0000\n",
      "Epoch 47/100\n",
      "24/24 [==============================] - 0s 695us/step - loss: 0.1580 - accuracy: 1.0000\n",
      "Epoch 48/100\n",
      "24/24 [==============================] - 0s 650us/step - loss: 0.1550 - accuracy: 1.0000\n",
      "Epoch 49/100\n",
      "24/24 [==============================] - 0s 675us/step - loss: 0.1522 - accuracy: 1.0000\n",
      "Epoch 50/100\n",
      "24/24 [==============================] - 0s 650us/step - loss: 0.1494 - accuracy: 1.0000\n",
      "Epoch 51/100\n",
      "24/24 [==============================] - 0s 694us/step - loss: 0.1466 - accuracy: 1.0000\n",
      "Epoch 52/100\n",
      "24/24 [==============================] - 0s 650us/step - loss: 0.1440 - accuracy: 1.0000\n",
      "Epoch 53/100\n",
      "24/24 [==============================] - 0s 694us/step - loss: 0.1414 - accuracy: 1.0000\n",
      "Epoch 54/100\n",
      "24/24 [==============================] - 0s 650us/step - loss: 0.1389 - accuracy: 1.0000\n",
      "Epoch 55/100\n",
      "24/24 [==============================] - 0s 650us/step - loss: 0.1364 - accuracy: 1.0000\n",
      "Epoch 56/100\n",
      "24/24 [==============================] - 0s 651us/step - loss: 0.1340 - accuracy: 1.0000\n",
      "Epoch 57/100\n",
      "24/24 [==============================] - 0s 650us/step - loss: 0.1317 - accuracy: 1.0000\n",
      "Epoch 58/100\n",
      "24/24 [==============================] - 0s 650us/step - loss: 0.1294 - accuracy: 1.0000\n",
      "Epoch 59/100\n",
      "24/24 [==============================] - 0s 607us/step - loss: 0.1272 - accuracy: 1.0000\n",
      "Epoch 60/100\n",
      "24/24 [==============================] - 0s 607us/step - loss: 0.1250 - accuracy: 1.0000\n",
      "Epoch 61/100\n",
      "24/24 [==============================] - 0s 721us/step - loss: 0.1229 - accuracy: 1.0000\n",
      "Epoch 62/100\n",
      "24/24 [==============================] - 0s 650us/step - loss: 0.1209 - accuracy: 1.0000\n",
      "Epoch 63/100\n",
      "24/24 [==============================] - 0s 650us/step - loss: 0.1188 - accuracy: 1.0000\n",
      "Epoch 64/100\n",
      "24/24 [==============================] - 0s 694us/step - loss: 0.1169 - accuracy: 1.0000\n",
      "Epoch 65/100\n",
      "24/24 [==============================] - 0s 737us/step - loss: 0.1150 - accuracy: 1.0000\n",
      "Epoch 66/100\n",
      "24/24 [==============================] - 0s 650us/step - loss: 0.1131 - accuracy: 1.0000\n",
      "Epoch 67/100\n",
      "24/24 [==============================] - 0s 722us/step - loss: 0.1113 - accuracy: 1.0000\n",
      "Epoch 68/100\n",
      "24/24 [==============================] - 0s 694us/step - loss: 0.1094 - accuracy: 1.0000\n",
      "Epoch 69/100\n",
      "24/24 [==============================] - 0s 607us/step - loss: 0.1077 - accuracy: 1.0000\n",
      "Epoch 70/100\n",
      "24/24 [==============================] - 0s 607us/step - loss: 0.1059 - accuracy: 1.0000\n",
      "Epoch 71/100\n",
      "24/24 [==============================] - 0s 650us/step - loss: 0.1043 - accuracy: 1.0000\n",
      "Epoch 72/100\n",
      "24/24 [==============================] - 0s 650us/step - loss: 0.1026 - accuracy: 1.0000\n",
      "Epoch 73/100\n",
      "24/24 [==============================] - 0s 650us/step - loss: 0.1010 - accuracy: 1.0000\n",
      "Epoch 74/100\n",
      "24/24 [==============================] - 0s 650us/step - loss: 0.0994 - accuracy: 1.0000\n",
      "Epoch 75/100\n",
      "24/24 [==============================] - 0s 607us/step - loss: 0.0979 - accuracy: 1.0000\n",
      "Epoch 76/100\n",
      "24/24 [==============================] - 0s 607us/step - loss: 0.0963 - accuracy: 1.0000\n",
      "Epoch 77/100\n",
      "24/24 [==============================] - 0s 564us/step - loss: 0.0949 - accuracy: 1.0000\n",
      "Epoch 78/100\n",
      "24/24 [==============================] - 0s 607us/step - loss: 0.0934 - accuracy: 1.0000\n",
      "Epoch 79/100\n",
      "24/24 [==============================] - 0s 650us/step - loss: 0.0920 - accuracy: 1.0000\n",
      "Epoch 80/100\n",
      "24/24 [==============================] - 0s 650us/step - loss: 0.0906 - accuracy: 1.0000\n",
      "Epoch 81/100\n",
      "24/24 [==============================] - 0s 676us/step - loss: 0.0892 - accuracy: 1.0000\n",
      "Epoch 82/100\n",
      "24/24 [==============================] - 0s 781us/step - loss: 0.0879 - accuracy: 1.0000\n",
      "Epoch 83/100\n",
      "24/24 [==============================] - 0s 650us/step - loss: 0.0866 - accuracy: 1.0000\n",
      "Epoch 84/100\n",
      "24/24 [==============================] - 0s 650us/step - loss: 0.0853 - accuracy: 1.0000\n",
      "Epoch 85/100\n",
      "24/24 [==============================] - 0s 694us/step - loss: 0.0840 - accuracy: 1.0000\n",
      "Epoch 86/100\n",
      "24/24 [==============================] - 0s 650us/step - loss: 0.0828 - accuracy: 1.0000\n",
      "Epoch 87/100\n",
      "24/24 [==============================] - 0s 607us/step - loss: 0.0816 - accuracy: 1.0000\n",
      "Epoch 88/100\n",
      "24/24 [==============================] - 0s 650us/step - loss: 0.0804 - accuracy: 1.0000\n",
      "Epoch 89/100\n",
      "24/24 [==============================] - 0s 650us/step - loss: 0.0792 - accuracy: 1.0000\n",
      "Epoch 90/100\n",
      "24/24 [==============================] - 0s 607us/step - loss: 0.0781 - accuracy: 1.0000\n",
      "Epoch 91/100\n",
      "24/24 [==============================] - 0s 650us/step - loss: 0.0769 - accuracy: 1.0000\n",
      "Epoch 92/100\n",
      "24/24 [==============================] - 0s 650us/step - loss: 0.0759 - accuracy: 1.0000\n",
      "Epoch 93/100\n",
      "24/24 [==============================] - 0s 677us/step - loss: 0.0747 - accuracy: 1.0000\n",
      "Epoch 94/100\n",
      "24/24 [==============================] - 0s 694us/step - loss: 0.0737 - accuracy: 1.0000\n",
      "Epoch 95/100\n",
      "24/24 [==============================] - 0s 694us/step - loss: 0.0726 - accuracy: 1.0000\n",
      "Epoch 96/100\n",
      "24/24 [==============================] - 0s 650us/step - loss: 0.0716 - accuracy: 1.0000\n",
      "Epoch 97/100\n",
      "24/24 [==============================] - 0s 650us/step - loss: 0.0706 - accuracy: 1.0000\n",
      "Epoch 98/100\n",
      "24/24 [==============================] - 0s 650us/step - loss: 0.0696 - accuracy: 1.0000\n",
      "Epoch 99/100\n",
      "24/24 [==============================] - 0s 650us/step - loss: 0.0686 - accuracy: 1.0000\n",
      "Epoch 100/100\n",
      "24/24 [==============================] - 0s 650us/step - loss: 0.0677 - accuracy: 1.0000\n"
     ]
    }
   ],
   "source": [
    "# Fit the model to the training data\n",
    "fit_model = nn_model.fit(X_train_scaled, y_train, epochs=100)"
   ]
  },
  {
   "cell_type": "code",
   "execution_count": 19,
   "id": "abd5d3b1",
   "metadata": {},
   "outputs": [
    {
     "data": {
      "text/plain": [
       "<AxesSubplot:>"
      ]
     },
     "execution_count": 19,
     "metadata": {},
     "output_type": "execute_result"
    },
    {
     "data": {
      "image/png": "[encoded data removed]",
      "text/plain": [
       "<Figure size 432x288 with 1 Axes>"
      ]
     },
     "metadata": {
      "needs_background": "light"
     },
     "output_type": "display_data"
    }
   ],
   "source": [
    "# Create a DataFrame containing training history\n",
    "history_df = pd.DataFrame(fit_model.history, index=range(1,len(fit_model.history[\"loss\"])+1))\n",
    "\n",
    "# Plot the loss\n",
    "history_df.plot(y=\"loss\")"
   ]
  },
  {
   "cell_type": "code",
   "execution_count": 20,
   "id": "f914706b",
   "metadata": {},
   "outputs": [
    {
     "data": {
      "text/plain": [
       "<AxesSubplot:>"
      ]
     },
     "execution_count": 20,
     "metadata": {},
     "output_type": "execute_result"
    },
    {
     "data": {
      "image/png": "[encoded data removed]",
      "text/plain": [
       "<Figure size 432x288 with 1 Axes>"
      ]
     },
     "metadata": {
      "needs_background": "light"
     },
     "output_type": "display_data"
    }
   ],
   "source": [
    "# Plot the accuracy\n",
    "history_df.plot(y=\"accuracy\")"
   ]
  },
  {
   "cell_type": "code",
   "execution_count": 21,
   "id": "dc96b9b2",
   "metadata": {},
   "outputs": [
    {
     "name": "stdout",
     "output_type": "stream",
     "text": [
      "8/8 - 0s - loss: 0.0707 - accuracy: 1.0000 - 95ms/epoch - 12ms/step\n",
      "loss: 0.07068565487861633, Accuracy: 1.0\n"
     ]
    }
   ],
   "source": [
    "# Evaluate the model using the test data\n",
    "model_loss, model_accuracy = nn_model.evaluate(X_test_scaled, y_test,verbose=2)\n",
    "print(f\"loss: {model_loss}, Accuracy: {model_accuracy}\")"
   ]
  },
  {
   "cell_type": "code",
   "execution_count": 22,
   "id": "59be5cce",
   "metadata": {},
   "outputs": [
    {
     "data": {
      "text/plain": [
       "array([[0],\n",
       "       [1],\n",
       "       [0],\n",
       "       [1],\n",
       "       [0],\n",
       "       [0],\n",
       "       [1],\n",
       "       [1],\n",
       "       [1],\n",
       "       [0]])"
      ]
     },
     "execution_count": 22,
     "metadata": {},
     "output_type": "execute_result"
    }
   ],
   "source": [
    "# PRedict the classification of a new set of blob data\n",
    "new_X, new_Y = make_blobs(n_samples=10, centers=2, n_features=2, random_state=78)\n",
    "new_X_scaled = X_scaler.transform(new_X)\n",
    "(nn_model.predict(new_X_scaled) > 0.5).astype(\"int32\")"
   ]
  },
  {
   "cell_type": "code",
   "execution_count": 23,
   "id": "f956dddf",
   "metadata": {},
   "outputs": [
    {
     "data": {
      "text/plain": [
       "<AxesSubplot:xlabel='Feature 1', ylabel='Feature 2'>"
      ]
     },
     "execution_count": 23,
     "metadata": {},
     "output_type": "execute_result"
    },
    {
     "data": {
      "image/png": "[encoded data removed]",
      "text/plain": [
       "<Figure size 432x288 with 2 Axes>"
      ]
     },
     "metadata": {
      "needs_background": "light"
     },
     "output_type": "display_data"
    }
   ],
   "source": [
    "from sklearn.datasets import make_moons\n",
    "\n",
    "# Creating dummy nonlinear data\n",
    "X_moons, y_moons = make_moons(n_samples=1000, noise=0.08, random_state=78)\n",
    "\n",
    "# Transforming y_moons to a vertical vector\n",
    "y_moons = y_moons.reshape(-1,1)\n",
    "\n",
    "# Creating a DataFrame to plot the nonlinear dummy data\n",
    "df_moons = pd.DataFrame(X_moons, columns=[\"Feature 1\", \"Feature 2\"])\n",
    "df_moons[\"Target\"] = y_moons\n",
    "\n",
    "# Plot the nonlinear dummy data\n",
    "df_moons.plot.scatter(x=\"Feature 1\",y=\"Feature 2\", c=\"Target\",colormap=\"winter\")"
   ]
  },
  {
   "cell_type": "code",
   "execution_count": 25,
   "id": "b68d25be",
   "metadata": {},
   "outputs": [],
   "source": [
    "# Create training and testing sets\n",
    "X_moon_train, X_moon_test, y_moon_train, y_moon_test = train_test_split(\n",
    "    X_moons, y_moons, random_state=78\n",
    ")\n",
    "\n",
    "# Create the scaler instance\n",
    "X_moon_scaler = skl.preprocessing.StandardScaler()\n",
    "\n",
    "# Fit the scaler\n",
    "X_moon_scaler.fit(X_moon_train)\n",
    "\n",
    "# Scale the data\n",
    "X_moon_train_scaled = X_moon_scaler.transform(X_moon_train)\n",
    "X_moon_test_scaled = X_moon_scaler.transform(X_moon_test)"
   ]
  },
  {
   "cell_type": "code",
   "execution_count": 26,
   "id": "2c96893e",
   "metadata": {},
   "outputs": [
    {
     "name": "stdout",
     "output_type": "stream",
     "text": [
      "Epoch 1/100\n",
      "24/24 [==============================] - 0s 1ms/step - loss: 0.6882 - accuracy: 0.7200\n",
      "Epoch 2/100\n",
      "24/24 [==============================] - 0s 1ms/step - loss: 0.6224 - accuracy: 0.7293\n",
      "Epoch 3/100\n",
      "24/24 [==============================] - 0s 953us/step - loss: 0.5707 - accuracy: 0.7480\n",
      "Epoch 4/100\n",
      "24/24 [==============================] - 0s 1ms/step - loss: 0.5372 - accuracy: 0.7533\n",
      "Epoch 5/100\n",
      "24/24 [==============================] - 0s 996us/step - loss: 0.5099 - accuracy: 0.7613\n",
      "Epoch 6/100\n",
      "24/24 [==============================] - 0s 997us/step - loss: 0.4897 - accuracy: 0.7640\n",
      "Epoch 7/100\n",
      "24/24 [==============================] - 0s 1ms/step - loss: 0.4723 - accuracy: 0.7720\n",
      "Epoch 8/100\n",
      "24/24 [==============================] - 0s 1ms/step - loss: 0.4578 - accuracy: 0.7773\n",
      "Epoch 9/100\n",
      "24/24 [==============================] - 0s 954us/step - loss: 0.4450 - accuracy: 0.7827\n",
      "Epoch 10/100\n",
      "24/24 [==============================] - 0s 1ms/step - loss: 0.4339 - accuracy: 0.7907\n",
      "Epoch 11/100\n",
      "24/24 [==============================] - 0s 1ms/step - loss: 0.4239 - accuracy: 0.8000\n",
      "Epoch 12/100\n",
      "24/24 [==============================] - 0s 1ms/step - loss: 0.4146 - accuracy: 0.8053\n",
      "Epoch 13/100\n",
      "24/24 [==============================] - 0s 1ms/step - loss: 0.4061 - accuracy: 0.8107\n",
      "Epoch 14/100\n",
      "24/24 [==============================] - 0s 1ms/step - loss: 0.3977 - accuracy: 0.8160\n",
      "Epoch 15/100\n",
      "24/24 [==============================] - 0s 996us/step - loss: 0.3903 - accuracy: 0.8227\n",
      "Epoch 16/100\n",
      "24/24 [==============================] - 0s 1ms/step - loss: 0.3830 - accuracy: 0.8253\n",
      "Epoch 17/100\n",
      "24/24 [==============================] - 0s 955us/step - loss: 0.3763 - accuracy: 0.8280\n",
      "Epoch 18/100\n",
      "24/24 [==============================] - 0s 997us/step - loss: 0.3700 - accuracy: 0.8347\n",
      "Epoch 19/100\n",
      "24/24 [==============================] - 0s 1ms/step - loss: 0.3639 - accuracy: 0.8347\n",
      "Epoch 20/100\n",
      "24/24 [==============================] - 0s 1ms/step - loss: 0.3582 - accuracy: 0.8360\n",
      "Epoch 21/100\n",
      "24/24 [==============================] - 0s 1ms/step - loss: 0.3529 - accuracy: 0.8387\n",
      "Epoch 22/100\n",
      "24/24 [==============================] - 0s 1ms/step - loss: 0.3477 - accuracy: 0.8440\n",
      "Epoch 23/100\n",
      "24/24 [==============================] - 0s 954us/step - loss: 0.3427 - accuracy: 0.8453\n",
      "Epoch 24/100\n",
      "24/24 [==============================] - 0s 1ms/step - loss: 0.3381 - accuracy: 0.8493\n",
      "Epoch 25/100\n",
      "24/24 [==============================] - 0s 1ms/step - loss: 0.3336 - accuracy: 0.8520\n",
      "Epoch 26/100\n",
      "24/24 [==============================] - 0s 954us/step - loss: 0.3294 - accuracy: 0.8533\n",
      "Epoch 27/100\n",
      "24/24 [==============================] - 0s 1ms/step - loss: 0.3249 - accuracy: 0.8560\n",
      "Epoch 28/100\n",
      "24/24 [==============================] - 0s 954us/step - loss: 0.3209 - accuracy: 0.8600\n",
      "Epoch 29/100\n",
      "24/24 [==============================] - 0s 1ms/step - loss: 0.3169 - accuracy: 0.8653\n",
      "Epoch 30/100\n",
      "24/24 [==============================] - 0s 997us/step - loss: 0.3133 - accuracy: 0.8653\n",
      "Epoch 31/100\n",
      "24/24 [==============================] - 0s 953us/step - loss: 0.3100 - accuracy: 0.8653\n",
      "Epoch 32/100\n",
      "24/24 [==============================] - 0s 1ms/step - loss: 0.3068 - accuracy: 0.8680\n",
      "Epoch 33/100\n",
      "24/24 [==============================] - 0s 997us/step - loss: 0.3039 - accuracy: 0.8707\n",
      "Epoch 34/100\n",
      "24/24 [==============================] - 0s 954us/step - loss: 0.3010 - accuracy: 0.8733\n",
      "Epoch 35/100\n",
      "24/24 [==============================] - 0s 954us/step - loss: 0.2984 - accuracy: 0.8733\n",
      "Epoch 36/100\n",
      "24/24 [==============================] - 0s 1ms/step - loss: 0.2957 - accuracy: 0.8760\n",
      "Epoch 37/100\n",
      "24/24 [==============================] - 0s 911us/step - loss: 0.2932 - accuracy: 0.8773\n",
      "Epoch 38/100\n",
      "24/24 [==============================] - 0s 1ms/step - loss: 0.2909 - accuracy: 0.8773\n",
      "Epoch 39/100\n",
      "24/24 [==============================] - 0s 953us/step - loss: 0.2887 - accuracy: 0.8773\n",
      "Epoch 40/100\n",
      "24/24 [==============================] - 0s 1ms/step - loss: 0.2866 - accuracy: 0.8773\n",
      "Epoch 41/100\n",
      "24/24 [==============================] - 0s 911us/step - loss: 0.2845 - accuracy: 0.8773\n",
      "Epoch 42/100\n",
      "24/24 [==============================] - 0s 1ms/step - loss: 0.2827 - accuracy: 0.8773\n",
      "Epoch 43/100\n",
      "24/24 [==============================] - 0s 910us/step - loss: 0.2808 - accuracy: 0.8787\n",
      "Epoch 44/100\n",
      "24/24 [==============================] - 0s 954us/step - loss: 0.2793 - accuracy: 0.8787\n",
      "Epoch 45/100\n",
      "24/24 [==============================] - 0s 1ms/step - loss: 0.2780 - accuracy: 0.8827\n",
      "Epoch 46/100\n",
      "24/24 [==============================] - 0s 955us/step - loss: 0.2769 - accuracy: 0.8867\n",
      "Epoch 47/100\n",
      "24/24 [==============================] - 0s 911us/step - loss: 0.2757 - accuracy: 0.8867\n",
      "Epoch 48/100\n",
      "24/24 [==============================] - 0s 955us/step - loss: 0.2748 - accuracy: 0.8880\n",
      "Epoch 49/100\n",
      "24/24 [==============================] - 0s 1ms/step - loss: 0.2738 - accuracy: 0.8907\n",
      "Epoch 50/100\n",
      "24/24 [==============================] - 0s 911us/step - loss: 0.2731 - accuracy: 0.8920\n",
      "Epoch 51/100\n",
      "24/24 [==============================] - 0s 1ms/step - loss: 0.2725 - accuracy: 0.8933\n",
      "Epoch 52/100\n",
      "24/24 [==============================] - 0s 911us/step - loss: 0.2720 - accuracy: 0.8947\n",
      "Epoch 53/100\n",
      "24/24 [==============================] - 0s 1ms/step - loss: 0.2715 - accuracy: 0.8947\n",
      "Epoch 54/100\n",
      "24/24 [==============================] - 0s 954us/step - loss: 0.2711 - accuracy: 0.8933\n",
      "Epoch 55/100\n",
      "24/24 [==============================] - 0s 1ms/step - loss: 0.2707 - accuracy: 0.8933\n",
      "Epoch 56/100\n",
      "24/24 [==============================] - 0s 1ms/step - loss: 0.2704 - accuracy: 0.8920\n",
      "Epoch 57/100\n",
      "24/24 [==============================] - 0s 945us/step - loss: 0.2701 - accuracy: 0.8920\n",
      "Epoch 58/100\n",
      "24/24 [==============================] - 0s 998us/step - loss: 0.2698 - accuracy: 0.8920\n",
      "Epoch 59/100\n",
      "24/24 [==============================] - 0s 997us/step - loss: 0.2696 - accuracy: 0.8920\n",
      "Epoch 60/100\n",
      "24/24 [==============================] - 0s 954us/step - loss: 0.2693 - accuracy: 0.8920\n",
      "Epoch 61/100\n",
      "24/24 [==============================] - 0s 955us/step - loss: 0.2690 - accuracy: 0.8920\n",
      "Epoch 62/100\n",
      "24/24 [==============================] - 0s 954us/step - loss: 0.2687 - accuracy: 0.8920\n",
      "Epoch 63/100\n",
      "24/24 [==============================] - 0s 954us/step - loss: 0.2685 - accuracy: 0.8920\n",
      "Epoch 64/100\n",
      "24/24 [==============================] - 0s 911us/step - loss: 0.2684 - accuracy: 0.8933\n",
      "Epoch 65/100\n",
      "24/24 [==============================] - 0s 954us/step - loss: 0.2680 - accuracy: 0.8933\n",
      "Epoch 66/100\n",
      "24/24 [==============================] - 0s 1ms/step - loss: 0.2678 - accuracy: 0.8933\n",
      "Epoch 67/100\n",
      "24/24 [==============================] - 0s 997us/step - loss: 0.2675 - accuracy: 0.8933\n",
      "Epoch 68/100\n",
      "24/24 [==============================] - 0s 1ms/step - loss: 0.2671 - accuracy: 0.8933\n",
      "Epoch 69/100\n",
      "24/24 [==============================] - 0s 954us/step - loss: 0.2669 - accuracy: 0.8933\n",
      "Epoch 70/100\n",
      "24/24 [==============================] - 0s 954us/step - loss: 0.2666 - accuracy: 0.8920\n",
      "Epoch 71/100\n",
      "24/24 [==============================] - 0s 955us/step - loss: 0.2663 - accuracy: 0.8920\n",
      "Epoch 72/100\n",
      "24/24 [==============================] - 0s 1ms/step - loss: 0.2660 - accuracy: 0.8920\n",
      "Epoch 73/100\n",
      "24/24 [==============================] - 0s 953us/step - loss: 0.2658 - accuracy: 0.8920\n",
      "Epoch 74/100\n",
      "24/24 [==============================] - 0s 996us/step - loss: 0.2655 - accuracy: 0.8907\n",
      "Epoch 75/100\n",
      "24/24 [==============================] - 0s 911us/step - loss: 0.2653 - accuracy: 0.8907\n",
      "Epoch 76/100\n",
      "24/24 [==============================] - 0s 911us/step - loss: 0.2652 - accuracy: 0.8907\n",
      "Epoch 77/100\n",
      "24/24 [==============================] - 0s 911us/step - loss: 0.2648 - accuracy: 0.8907\n",
      "Epoch 78/100\n",
      "24/24 [==============================] - 0s 997us/step - loss: 0.2647 - accuracy: 0.8907\n",
      "Epoch 79/100\n",
      "24/24 [==============================] - 0s 997us/step - loss: 0.2644 - accuracy: 0.8907\n",
      "Epoch 80/100\n",
      "24/24 [==============================] - 0s 954us/step - loss: 0.2642 - accuracy: 0.8907\n",
      "Epoch 81/100\n",
      "24/24 [==============================] - 0s 1ms/step - loss: 0.2639 - accuracy: 0.8907\n",
      "Epoch 82/100\n"
     ]
    },
    {
     "name": "stdout",
     "output_type": "stream",
     "text": [
      "24/24 [==============================] - 0s 867us/step - loss: 0.2637 - accuracy: 0.8907\n",
      "Epoch 83/100\n",
      "24/24 [==============================] - 0s 913us/step - loss: 0.2635 - accuracy: 0.8920\n",
      "Epoch 84/100\n",
      "24/24 [==============================] - 0s 997us/step - loss: 0.2633 - accuracy: 0.8933\n",
      "Epoch 85/100\n",
      "24/24 [==============================] - 0s 909us/step - loss: 0.2631 - accuracy: 0.8933\n",
      "Epoch 86/100\n",
      "24/24 [==============================] - 0s 997us/step - loss: 0.2628 - accuracy: 0.8933\n",
      "Epoch 87/100\n",
      "24/24 [==============================] - 0s 912us/step - loss: 0.2627 - accuracy: 0.8933\n",
      "Epoch 88/100\n",
      "24/24 [==============================] - 0s 1ms/step - loss: 0.2624 - accuracy: 0.8933\n",
      "Epoch 89/100\n",
      "24/24 [==============================] - 0s 954us/step - loss: 0.2622 - accuracy: 0.8933\n",
      "Epoch 90/100\n",
      "24/24 [==============================] - 0s 953us/step - loss: 0.2620 - accuracy: 0.8933\n",
      "Epoch 91/100\n",
      "24/24 [==============================] - 0s 996us/step - loss: 0.2618 - accuracy: 0.8933\n",
      "Epoch 92/100\n",
      "24/24 [==============================] - 0s 911us/step - loss: 0.2616 - accuracy: 0.8933\n",
      "Epoch 93/100\n",
      "24/24 [==============================] - 0s 953us/step - loss: 0.2614 - accuracy: 0.8933\n",
      "Epoch 94/100\n",
      "24/24 [==============================] - 0s 953us/step - loss: 0.2612 - accuracy: 0.8933\n",
      "Epoch 95/100\n",
      "24/24 [==============================] - 0s 955us/step - loss: 0.2611 - accuracy: 0.8933\n",
      "Epoch 96/100\n",
      "24/24 [==============================] - 0s 867us/step - loss: 0.2608 - accuracy: 0.8933\n",
      "Epoch 97/100\n",
      "24/24 [==============================] - 0s 911us/step - loss: 0.2607 - accuracy: 0.8920\n",
      "Epoch 98/100\n",
      "24/24 [==============================] - 0s 1ms/step - loss: 0.2605 - accuracy: 0.8920\n",
      "Epoch 99/100\n",
      "24/24 [==============================] - 0s 954us/step - loss: 0.2603 - accuracy: 0.8920\n",
      "Epoch 100/100\n",
      "24/24 [==============================] - 0s 955us/step - loss: 0.2602 - accuracy: 0.8920\n"
     ]
    }
   ],
   "source": [
    "# Training the model with the nonlinear data\n",
    "model_moon = nn_model.fit(X_moon_train_scaled, y_moon_train, epochs=100, shuffle=True)"
   ]
  },
  {
   "cell_type": "code",
   "execution_count": 27,
   "id": "f698c3de",
   "metadata": {},
   "outputs": [
    {
     "data": {
      "text/plain": [
       "<AxesSubplot:>"
      ]
     },
     "execution_count": 27,
     "metadata": {},
     "output_type": "execute_result"
    },
    {
     "data": {
      "image/png": "[encoded data removed]",
      "text/plain": [
       "<Figure size 432x288 with 1 Axes>"
      ]
     },
     "metadata": {
      "needs_background": "light"
     },
     "output_type": "display_data"
    }
   ],
   "source": [
    "# Create a DataFrame containing training history\n",
    "histroy_df = pd.DataFrame(model_moon.history, index=range(1,len(model_moon.history[\"loss\"])+1))\n",
    "\n",
    "# Plot the loss\n",
    "history_df.plot(y=\"loss\")"
   ]
  },
  {
   "cell_type": "code",
   "execution_count": 29,
   "id": "71a81ed5",
   "metadata": {
    "scrolled": true
   },
   "outputs": [
    {
     "data": {
      "text/plain": [
       "<AxesSubplot:>"
      ]
     },
     "execution_count": 29,
     "metadata": {},
     "output_type": "execute_result"
    },
    {
     "data": {
      "image/png": "[encoded data removed]",
      "text/plain": [
       "<Figure size 432x288 with 1 Axes>"
      ]
     },
     "metadata": {
      "needs_background": "light"
     },
     "output_type": "display_data"
    }
   ],
   "source": [
    "# Plot the accuracy\n",
    "history_df.plot(y=\"accuracy\")"
   ]
  },
  {
   "cell_type": "code",
   "execution_count": 30,
   "id": "ec3aaf53",
   "metadata": {},
   "outputs": [],
   "source": [
    "# Generate our new Sequential model\n",
    "new_model = tf.keras.models.Sequential()"
   ]
  },
  {
   "cell_type": "code",
   "execution_count": 31,
   "id": "0bfcc9cf",
   "metadata": {},
   "outputs": [],
   "source": [
    "# Add teh input an dhidden layer\n",
    "number_inputs = 2\n",
    "number_hidden_nodes = 6\n",
    "\n",
    "new_model.add(tf.keras.layers.Dense(units=number_hidden_nodes, activation=\"relu\", input_dim=number_inputs))\n",
    "\n",
    "# Add the output layer that  uses a probability actication function\n",
    "new_model.add(tf.keras.layers.Dense(units=1, activation=\"sigmoid\"))"
   ]
  },
  {
   "cell_type": "code",
   "execution_count": 32,
   "id": "65104e2e",
   "metadata": {},
   "outputs": [
    {
     "name": "stdout",
     "output_type": "stream",
     "text": [
      "Epoch 1/100\n",
      "24/24 [==============================] - 0s 693us/step - loss: 0.8896 - accuracy: 0.2267\n",
      "Epoch 2/100\n",
      "24/24 [==============================] - 0s 607us/step - loss: 0.8381 - accuracy: 0.2307\n",
      "Epoch 3/100\n",
      "24/24 [==============================] - 0s 605us/step - loss: 0.7916 - accuracy: 0.2760\n",
      "Epoch 4/100\n",
      "24/24 [==============================] - 0s 608us/step - loss: 0.7509 - accuracy: 0.3813\n",
      "Epoch 5/100\n",
      "24/24 [==============================] - 0s 607us/step - loss: 0.7139 - accuracy: 0.4613\n",
      "Epoch 6/100\n",
      "24/24 [==============================] - 0s 607us/step - loss: 0.6806 - accuracy: 0.5240\n",
      "Epoch 7/100\n",
      "24/24 [==============================] - 0s 565us/step - loss: 0.6507 - accuracy: 0.5213\n",
      "Epoch 8/100\n",
      "24/24 [==============================] - 0s 647us/step - loss: 0.6236 - accuracy: 0.5120\n",
      "Epoch 9/100\n",
      "24/24 [==============================] - 0s 650us/step - loss: 0.5988 - accuracy: 0.5413\n",
      "Epoch 10/100\n",
      "24/24 [==============================] - 0s 693us/step - loss: 0.5764 - accuracy: 0.5853\n",
      "Epoch 11/100\n",
      "24/24 [==============================] - 0s 694us/step - loss: 0.5553 - accuracy: 0.6307\n",
      "Epoch 12/100\n",
      "24/24 [==============================] - 0s 650us/step - loss: 0.5357 - accuracy: 0.6587\n",
      "Epoch 13/100\n",
      "24/24 [==============================] - 0s 652us/step - loss: 0.5172 - accuracy: 0.7360\n",
      "Epoch 14/100\n",
      "24/24 [==============================] - 0s 613us/step - loss: 0.5000 - accuracy: 0.7680\n",
      "Epoch 15/100\n",
      "24/24 [==============================] - 0s 606us/step - loss: 0.4834 - accuracy: 0.7947\n",
      "Epoch 16/100\n",
      "24/24 [==============================] - 0s 608us/step - loss: 0.4677 - accuracy: 0.8093\n",
      "Epoch 17/100\n",
      "24/24 [==============================] - 0s 608us/step - loss: 0.4526 - accuracy: 0.8253\n",
      "Epoch 18/100\n",
      "24/24 [==============================] - 0s 607us/step - loss: 0.4384 - accuracy: 0.8360\n",
      "Epoch 19/100\n",
      "24/24 [==============================] - 0s 564us/step - loss: 0.4246 - accuracy: 0.8387\n",
      "Epoch 20/100\n",
      "24/24 [==============================] - 0s 607us/step - loss: 0.4118 - accuracy: 0.8387\n",
      "Epoch 21/100\n",
      "24/24 [==============================] - 0s 606us/step - loss: 0.3990 - accuracy: 0.8440\n",
      "Epoch 22/100\n",
      "24/24 [==============================] - 0s 650us/step - loss: 0.3872 - accuracy: 0.8480\n",
      "Epoch 23/100\n",
      "24/24 [==============================] - 0s 607us/step - loss: 0.3760 - accuracy: 0.8480\n",
      "Epoch 24/100\n",
      "24/24 [==============================] - 0s 607us/step - loss: 0.3655 - accuracy: 0.8507\n",
      "Epoch 25/100\n",
      "24/24 [==============================] - 0s 651us/step - loss: 0.3557 - accuracy: 0.8547\n",
      "Epoch 26/100\n",
      "24/24 [==============================] - 0s 649us/step - loss: 0.3467 - accuracy: 0.8587\n",
      "Epoch 27/100\n",
      "24/24 [==============================] - 0s 607us/step - loss: 0.3384 - accuracy: 0.8613\n",
      "Epoch 28/100\n",
      "24/24 [==============================] - 0s 607us/step - loss: 0.3307 - accuracy: 0.8627\n",
      "Epoch 29/100\n",
      "24/24 [==============================] - 0s 564us/step - loss: 0.3236 - accuracy: 0.8640\n",
      "Epoch 30/100\n",
      "24/24 [==============================] - 0s 608us/step - loss: 0.3173 - accuracy: 0.8653\n",
      "Epoch 31/100\n",
      "24/24 [==============================] - 0s 562us/step - loss: 0.3113 - accuracy: 0.8667\n",
      "Epoch 32/100\n",
      "24/24 [==============================] - 0s 607us/step - loss: 0.3060 - accuracy: 0.8707\n",
      "Epoch 33/100\n",
      "24/24 [==============================] - 0s 694us/step - loss: 0.3008 - accuracy: 0.8747\n",
      "Epoch 34/100\n",
      "24/24 [==============================] - 0s 564us/step - loss: 0.2961 - accuracy: 0.8760\n",
      "Epoch 35/100\n",
      "24/24 [==============================] - 0s 650us/step - loss: 0.2919 - accuracy: 0.8773\n",
      "Epoch 36/100\n",
      "24/24 [==============================] - 0s 651us/step - loss: 0.2878 - accuracy: 0.8800\n",
      "Epoch 37/100\n",
      "24/24 [==============================] - 0s 650us/step - loss: 0.2840 - accuracy: 0.8800\n",
      "Epoch 38/100\n",
      "24/24 [==============================] - 0s 564us/step - loss: 0.2806 - accuracy: 0.8827\n",
      "Epoch 39/100\n",
      "24/24 [==============================] - 0s 564us/step - loss: 0.2772 - accuracy: 0.8827\n",
      "Epoch 40/100\n",
      "24/24 [==============================] - 0s 607us/step - loss: 0.2742 - accuracy: 0.8853\n",
      "Epoch 41/100\n",
      "24/24 [==============================] - 0s 607us/step - loss: 0.2712 - accuracy: 0.8853\n",
      "Epoch 42/100\n",
      "24/24 [==============================] - 0s 607us/step - loss: 0.2684 - accuracy: 0.8893\n",
      "Epoch 43/100\n",
      "24/24 [==============================] - 0s 649us/step - loss: 0.2658 - accuracy: 0.8893\n",
      "Epoch 44/100\n",
      "24/24 [==============================] - 0s 607us/step - loss: 0.2634 - accuracy: 0.8920\n",
      "Epoch 45/100\n",
      "24/24 [==============================] - 0s 607us/step - loss: 0.2612 - accuracy: 0.8933\n",
      "Epoch 46/100\n",
      "24/24 [==============================] - 0s 737us/step - loss: 0.2589 - accuracy: 0.8933\n",
      "Epoch 47/100\n",
      "24/24 [==============================] - 0s 650us/step - loss: 0.2568 - accuracy: 0.8933\n",
      "Epoch 48/100\n",
      "24/24 [==============================] - 0s 607us/step - loss: 0.2549 - accuracy: 0.8933\n",
      "Epoch 49/100\n",
      "24/24 [==============================] - 0s 607us/step - loss: 0.2528 - accuracy: 0.8933\n",
      "Epoch 50/100\n",
      "24/24 [==============================] - 0s 607us/step - loss: 0.2510 - accuracy: 0.8933\n",
      "Epoch 51/100\n",
      "24/24 [==============================] - 0s 650us/step - loss: 0.2493 - accuracy: 0.8933\n",
      "Epoch 52/100\n",
      "24/24 [==============================] - 0s 607us/step - loss: 0.2474 - accuracy: 0.8933\n",
      "Epoch 53/100\n",
      "24/24 [==============================] - 0s 607us/step - loss: 0.2459 - accuracy: 0.8947\n",
      "Epoch 54/100\n",
      "24/24 [==============================] - 0s 737us/step - loss: 0.2444 - accuracy: 0.8947\n",
      "Epoch 55/100\n",
      "24/24 [==============================] - 0s 650us/step - loss: 0.2427 - accuracy: 0.8960\n",
      "Epoch 56/100\n",
      "24/24 [==============================] - 0s 650us/step - loss: 0.2412 - accuracy: 0.8960\n",
      "Epoch 57/100\n",
      "24/24 [==============================] - 0s 650us/step - loss: 0.2396 - accuracy: 0.8960\n",
      "Epoch 58/100\n",
      "24/24 [==============================] - 0s 694us/step - loss: 0.2382 - accuracy: 0.8960\n",
      "Epoch 59/100\n",
      "24/24 [==============================] - 0s 649us/step - loss: 0.2368 - accuracy: 0.8973\n",
      "Epoch 60/100\n",
      "24/24 [==============================] - 0s 606us/step - loss: 0.2354 - accuracy: 0.8973\n",
      "Epoch 61/100\n",
      "24/24 [==============================] - 0s 564us/step - loss: 0.2340 - accuracy: 0.8973\n",
      "Epoch 62/100\n",
      "24/24 [==============================] - 0s 607us/step - loss: 0.2328 - accuracy: 0.9000\n",
      "Epoch 63/100\n",
      "24/24 [==============================] - 0s 607us/step - loss: 0.2313 - accuracy: 0.9000\n",
      "Epoch 64/100\n",
      "24/24 [==============================] - 0s 650us/step - loss: 0.2300 - accuracy: 0.9000\n",
      "Epoch 65/100\n",
      "24/24 [==============================] - 0s 652us/step - loss: 0.2288 - accuracy: 0.9013\n",
      "Epoch 66/100\n",
      "24/24 [==============================] - 0s 608us/step - loss: 0.2274 - accuracy: 0.9013\n",
      "Epoch 67/100\n",
      "24/24 [==============================] - 0s 607us/step - loss: 0.2261 - accuracy: 0.9013\n",
      "Epoch 68/100\n",
      "24/24 [==============================] - 0s 608us/step - loss: 0.2248 - accuracy: 0.9027\n",
      "Epoch 69/100\n",
      "24/24 [==============================] - 0s 649us/step - loss: 0.2236 - accuracy: 0.9013\n",
      "Epoch 70/100\n",
      "24/24 [==============================] - 0s 608us/step - loss: 0.2223 - accuracy: 0.9013\n",
      "Epoch 71/100\n",
      "24/24 [==============================] - 0s 606us/step - loss: 0.2210 - accuracy: 0.9027\n",
      "Epoch 72/100\n",
      "24/24 [==============================] - 0s 607us/step - loss: 0.2198 - accuracy: 0.9027\n",
      "Epoch 73/100\n",
      "24/24 [==============================] - 0s 607us/step - loss: 0.2186 - accuracy: 0.9040\n",
      "Epoch 74/100\n",
      "24/24 [==============================] - 0s 607us/step - loss: 0.2173 - accuracy: 0.9040\n",
      "Epoch 75/100\n",
      "24/24 [==============================] - 0s 607us/step - loss: 0.2161 - accuracy: 0.9053\n",
      "Epoch 76/100\n",
      "24/24 [==============================] - 0s 694us/step - loss: 0.2149 - accuracy: 0.9053\n",
      "Epoch 77/100\n",
      "24/24 [==============================] - 0s 650us/step - loss: 0.2138 - accuracy: 0.9053\n",
      "Epoch 78/100\n",
      "24/24 [==============================] - 0s 650us/step - loss: 0.2125 - accuracy: 0.9067\n",
      "Epoch 79/100\n",
      "24/24 [==============================] - 0s 650us/step - loss: 0.2113 - accuracy: 0.9053\n",
      "Epoch 80/100\n",
      "24/24 [==============================] - 0s 851us/step - loss: 0.2100 - accuracy: 0.9067\n",
      "Epoch 81/100\n"
     ]
    },
    {
     "name": "stdout",
     "output_type": "stream",
     "text": [
      "24/24 [==============================] - 0s 694us/step - loss: 0.2088 - accuracy: 0.9067\n",
      "Epoch 82/100\n",
      "24/24 [==============================] - 0s 650us/step - loss: 0.2077 - accuracy: 0.9067\n",
      "Epoch 83/100\n",
      "24/24 [==============================] - 0s 650us/step - loss: 0.2065 - accuracy: 0.9067\n",
      "Epoch 84/100\n",
      "24/24 [==============================] - 0s 607us/step - loss: 0.2052 - accuracy: 0.9080\n",
      "Epoch 85/100\n",
      "24/24 [==============================] - 0s 650us/step - loss: 0.2040 - accuracy: 0.9093\n",
      "Epoch 86/100\n",
      "24/24 [==============================] - 0s 636us/step - loss: 0.2027 - accuracy: 0.9107\n",
      "Epoch 87/100\n",
      "24/24 [==============================] - 0s 607us/step - loss: 0.2015 - accuracy: 0.9133\n",
      "Epoch 88/100\n",
      "24/24 [==============================] - 0s 607us/step - loss: 0.2002 - accuracy: 0.9147\n",
      "Epoch 89/100\n",
      "24/24 [==============================] - 0s 608us/step - loss: 0.1992 - accuracy: 0.9160\n",
      "Epoch 90/100\n",
      "24/24 [==============================] - 0s 608us/step - loss: 0.1978 - accuracy: 0.9173\n",
      "Epoch 91/100\n",
      "24/24 [==============================] - 0s 565us/step - loss: 0.1966 - accuracy: 0.9173\n",
      "Epoch 92/100\n",
      "24/24 [==============================] - 0s 650us/step - loss: 0.1951 - accuracy: 0.9173\n",
      "Epoch 93/100\n",
      "24/24 [==============================] - 0s 607us/step - loss: 0.1940 - accuracy: 0.9173\n",
      "Epoch 94/100\n",
      "24/24 [==============================] - 0s 608us/step - loss: 0.1927 - accuracy: 0.9187\n",
      "Epoch 95/100\n",
      "24/24 [==============================] - 0s 607us/step - loss: 0.1914 - accuracy: 0.9187\n",
      "Epoch 96/100\n",
      "24/24 [==============================] - 0s 607us/step - loss: 0.1901 - accuracy: 0.9187\n",
      "Epoch 97/100\n",
      "24/24 [==============================] - 0s 607us/step - loss: 0.1888 - accuracy: 0.9187\n",
      "Epoch 98/100\n",
      "24/24 [==============================] - 0s 632us/step - loss: 0.1875 - accuracy: 0.9213\n",
      "Epoch 99/100\n",
      "24/24 [==============================] - 0s 649us/step - loss: 0.1862 - accuracy: 0.9227\n",
      "Epoch 100/100\n",
      "24/24 [==============================] - 0s 606us/step - loss: 0.1848 - accuracy: 0.9227\n"
     ]
    }
   ],
   "source": [
    "# Compile the Sequential model together and customize metrics\n",
    "new_model.compile(loss=\"binary_crossentropy\", optimizer=\"adam\", metrics=[\"accuracy\"])\n",
    "\n",
    "# Fit the model to the training data\n",
    "new_fit_model = new_model.fit(X_moon_train_scaled, y_moon_train, epochs=100, shuffle=True)"
   ]
  },
  {
   "cell_type": "code",
   "execution_count": null,
   "id": "82cb0aea",
   "metadata": {},
   "outputs": [],
   "source": []
  }
 ],
 "metadata": {
  "kernelspec": {
   "display_name": "mlenv",
   "language": "python",
   "name": "mlenv"
  },
  "language_info": {
   "codemirror_mode": {
    "name": "ipython",
    "version": 3
   },
   "file_extension": ".py",
   "mimetype": "text/x-python",
   "name": "python",
   "nbconvert_exporter": "python",
   "pygments_lexer": "ipython3",
   "version": "3.7.11"
  }
 },
 "nbformat": 4,
 "nbformat_minor": 5
}
